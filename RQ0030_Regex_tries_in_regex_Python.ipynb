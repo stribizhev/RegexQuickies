{
 "cells": [
  {
   "cell_type": "markdown",
   "metadata": {},
   "source": [
    "## Regex tries, or efficient alternations in regex"
   ]
  },
  {
   "cell_type": "markdown",
   "metadata": {},
   "source": [
    "**INPUT STRING:** `Afoos,foo,food,fool-foolish, foods.`\n",
    "\n",
    "**Initial attempts**\n",
    "\n",
    " 1. <i>Words in any order inside the list</i><br/>\n",
    " Input: `['foo','food','fool','foods','foolish']`<br/>\n",
    " Usual `\"|\".join(words)` regex: `foo|food|fool|foods|foolish`<br/>\n",
    " Result: wrong matches, 29 steps - https://regex101.com/r/Pen60r/4/<br/>\n",
    " <br/>\n",
    " 2. <i>Words sorted by length in descending order inside the list without word boundaries</i><br/>\n",
    " Input: `['foolish','foods','fool','food','foo']`<br/>\n",
    " Usual `\"|\".join(words)` regex: `foolish|foods|fool|food|foo`<br/>\n",
    " Result: `foo` still matches in `Afoos`, 95 steps (3x more!) - https://regex101.com/r/Pen60r/5<br/>\n",
    " <br/>\n",
    " 3. <i>Words sorted by length in descending order inside the list with word boundaries</i><br/>\n",
    " Input: `['foolish','foods','fool','food','foo']`<br/>\n",
    " Usual `r\"\\b(?:{})\\b\".format(\"|\".join(words))` regex: `\\b(?:foolish|foods|fool|food|foo)\\b`<br/>\n",
    " Result: Correct matches, 92 steps (still a lot more!) - https://regex101.com/r/Pen60r/6<br/>\n",
    "<br/>\n",
    " 4. <i>The regex trie based pattern, `\\b(?:foo(?:l(?:ish)?|ds?)?)\\b`, finds correct matches within **67 steps**, see \n",
    "https://regex101.com/r/Pen60r/7<i>.\n"
   ]
  },
  {
   "attachments": {
    "image.png": {
     "image/png": "[encoded data removed]"
    }
   },
   "cell_type": "markdown",
   "metadata": {},
   "source": [
    "## What is a trie?\n",
    "\n",
    "\"A trie is a type of search tree, a tree data structure used for locating specific keys from within a set. These keys are most often strings, with links between nodes defined not by the entire key, but by individual characters. In order to access a key (to recover its value, change it, or remove it), the trie is traversed depth-first, following the links between nodes, which represent each character in the key.\" — _Wikipedia_\n",
    "\n",
    "![image.png](attachment:image.png)\n",
    "\n",
    "This is a trie for keys \"A\", \"to\", \"tea\", \"ted\", \"ten\", \"i\", \"in\", and \"inn\". "
   ]
  },
  {
   "attachments": {
    "image.png": {
     "image/png": "[encoded data removed]"
    }
   },
   "cell_type": "markdown",
   "metadata": {},
   "source": [
    "A *regex trie* is a regular expression that is built in a trie-like way: \n",
    "\n",
    "    (?:foo(?:l(?:ish)?|ds?)?)\n",
    "    \n",
    "This expression scheme is\n",
    "\n",
    "![image.png](attachment:image.png)\n",
    "\n",
    "## How can we generate this kind of pattern in Python?\n",
    "\n",
    "You can use some ready-to-use library, like a trieregex library (https://github.com/ermanh/trieregex)."
   ]
  },
  {
   "cell_type": "code",
   "execution_count": 18,
   "metadata": {},
   "outputs": [
    {
     "name": "stdout",
     "output_type": "stream",
     "text": [
      "\\b(?:foo(?:l(?:ish)?|ds?)?)\\b\n"
     ]
    }
   ],
   "source": [
    "# pip install trieregex or pip3 install trieregex\n",
    "from trieregex import TrieRegEx\n",
    "words = ['foo','food','fool','foods','foolish'] # Any order of words in the list\n",
    "print( fr'\\b(?:{TrieRegEx(*words).regex()})\\b' )"
   ]
  },
  {
   "cell_type": "markdown",
   "metadata": {},
   "source": [
    "## Testing\n",
    "\n",
    "Let's try to run this regex against this sample text."
   ]
  },
  {
   "cell_type": "code",
   "execution_count": 23,
   "metadata": {},
   "outputs": [
    {
     "name": "stdout",
     "output_type": "stream",
     "text": [
      "Words: ['Yet', 's', 'foolishness', 'be', 'Poem', 'you', 'for', 'as', 'sieve', 'to', 'Franziska', 'a', 'words', 'outcries', 'dreaming', 'is', 'this', 'from', 'face', 'with', 'Von', 'm', 'only', 'spends', 'foolery', 'his', 'by', 'no', 'just', 'feel', 'sorry', 'Oh', 'fools', 'I', 'listen', 'foolishly', 'grow', 'There', 'drabble', 'the', 'A', 'more', 'other', 'fool', 'brain', 'who', 'will', 'wearing', 'country', 'spouting', 'makes', 'opinions', 'need', 'spouts', 'tired', 't', 'while', 'Foolish', 'foolish', 'such', 'how', 'Don', 'time', 'dreams', 'speaks', 'Karma', 'inclined', 'expect', 'out', 'Fools', 'of', 'again', 'clothes']\n",
      "\n",
      "Non-trie pattern: \\b(?:foolishness|Franziska|foolishly|outcries|dreaming|spouting|opinions|inclined|foolery|drabble|wearing|country|Foolish|foolish|clothes|spends|listen|spouts|dreams|speaks|expect|sieve|words|sorry|fools|There|other|brain|makes|tired|while|Karma|Fools|again|Poem|this|from|face|with|only|just|feel|grow|more|fool|will|need|such|time|Yet|you|for|Von|his|the|who|how|Don|out|be|as|to|is|by|no|Oh|of|s|a|m|I|A|t)\\b\n",
      "\n",
      "Trie pattern: \\b(?:(?:f(?:o(?:ol(?:ish(?:ness|ly)?|ery|s)?|r)|ace|eel|rom)|s(?:p(?:e(?:aks|nds)|out(?:ing|s))|ieve|orry|uch)?|w(?:h(?:ile|o)|i(?:ll|th)|earing|ords)|o(?:ut(?:cries)?|pinions|ther|nly|f)|t(?:i(?:red|me)|h(?:is|e)|o)?|F(?:ool(?:ish|s)|ranziska)|dr(?:eam(?:ing|s)|abble)|c(?:lothes|ountry)|i(?:nclined|s)|m(?:akes|ore)?|b(?:rain|e|y)|a(?:gain|s)?|h(?:is|ow)|n(?:eed|o)|expect|listen|Karma|There|Poem|grow|just|Don|Von|Yet|you|Oh|A|I))\\b\n",
      "\n"
     ]
    }
   ],
   "source": [
    "import re\n",
    "from trieregex import TrieRegEx\n",
    "\n",
    "text = \"\"\"“Poem for the Fools”, by Franziska Von Karma\n",
    "Foolish fool who foolishly dreams of foolish dreams\n",
    "I grow tired of the foolish foolery of the foolish fools of this foolish country\n",
    "A fool is a fool who will only listen to the foolish opinions of other foolish fools\n",
    "There's no need for foolish outcries from foolishly foolish fools\n",
    "Foolish fool spouting foolish foolishness, just as I expect of a foolish fool such as you\n",
    "Oh, how a foolish fool makes a foolish face while dreaming foolishly foolish dreams\n",
    "Don't be foolish, you foolish fool wearing the foolishly foolish clothes\n",
    "Yet again the foolish fool spouts out more foolishly foolish drabble\n",
    "A foolish fool with a foolish sieve for a brain only speaks foolishly with foolish words\n",
    "I'm inclined to feel sorry for a foolish fool who foolishly spends his time foolishly.\"\"\"\n",
    "\n",
    "# Create the words list from the text words\n",
    "words = list(set(re.findall(r'[^\\W\\d_]+', text)))\n",
    "print(f\"Words: {words}\\n\")\n",
    "\n",
    "non_trie_pattern = fr'\\b(?:{\"|\".join(sorted(words,key=len,reverse=True))})\\b'\n",
    "trie_pattern     = fr'\\b(?:{TrieRegEx(*words).regex()})\\b'\n",
    "\n",
    "re_notriepattern = re.compile( non_trie_pattern )\n",
    "re_triepattern = re.compile( trie_pattern )\n",
    "\n",
    "print(f\"Non-trie pattern: {non_trie_pattern}\\n\")\n",
    "print(f\"Trie pattern: {trie_pattern}\\n\")"
   ]
  },
  {
   "cell_type": "code",
   "execution_count": 25,
   "metadata": {},
   "outputs": [
    {
     "name": "stdout",
     "output_type": "stream",
     "text": [
      "No trie-based re pattern:\n",
      "79.5 µs ± 1.68 µs per loop (mean ± std. dev. of 7 runs, 10000 loops each)\n",
      "Trie-based re pattern:\n",
      "53.7 µs ± 970 ns per loop (mean ± std. dev. of 7 runs, 10000 loops each)\n"
     ]
    }
   ],
   "source": [
    "# Test\n",
    "print(\"No trie-based re pattern:\")\n",
    "%timeit -n 10000 re_notriepattern.findall(text)\n",
    "print(\"Trie-based re pattern:\")\n",
    "%timeit -n 10000 re_triepattern.findall(text)"
   ]
  },
  {
   "cell_type": "markdown",
   "metadata": {},
   "source": [
    "## FURTHER LINKS\n",
    "\n",
    " - [What is a Trie](https://en.wikipedia.org/wiki/Trie) (Wikipedia article)\n",
    " - [How to have better and clear regex expression in Javascript](https://stackoverflow.com/a/68275882/3832970) - Generate regex tries from your static word lists using the code snippet in this StackOverflow answer of mine\n",
    " - [Speed up millions of regex replacements in Python 3](https://stackoverflow.com/a/42789508/3832970) (StackOverflow Python solution)\n",
    " - [Match a list of words preceded and followed by some special character](https://stackoverflow.com/a/69226462/3832970) (a tweak of the above StackOverflow Python solution using custom boundaries)\n",
    " - [Fuzzy regex match on million rows Pandas df](https://stackoverflow.com/a/65289273/3832970) (a tweak of the above StackOverflow Python solution for using in Pandas with PyPi regex module and whitespace boundaries)\n",
    " - [Emoji regex for .NET, JavaScript](https://stackoverflow.com/a/48148218/3832970) - StackOverflow regex solution to match emojis generated with the trie approach\n",
    " "
   ]
  }
 ],
 "metadata": {
  "kernelspec": {
   "display_name": "Python 3",
   "language": "python",
   "name": "python3"
  },
  "language_info": {
   "codemirror_mode": {
    "name": "ipython",
    "version": 3
   },
   "file_extension": ".py",
   "mimetype": "text/x-python",
   "name": "python",
   "nbconvert_exporter": "python",
   "pygments_lexer": "ipython3",
   "version": "3.7.7"
  }
 },
 "nbformat": 4,
 "nbformat_minor": 4
}
