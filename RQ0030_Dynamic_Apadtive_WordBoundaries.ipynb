{
 "cells": [
  {
   "cell_type": "markdown",
   "metadata": {},
   "source": [
    "# RQ0029: Matching user-defined words as whole words\n",
    "\n"
   ]
  },
  {
   "cell_type": "code",
   "execution_count": 3,
   "metadata": {},
   "outputs": [],
   "source": [
    "import re"
   ]
  },
  {
   "cell_type": "code",
   "execution_count": 4,
   "metadata": {},
   "outputs": [],
   "source": [
    "# Input data\n",
    "words = ['C++', 'C#', '#hash_tag', 'df$str', 'his head']\n",
    "\n",
    "# Test cases\n",
    "no_match_in = ['libstdc++', 'DC#' '#hash_tagging', 'new_df$string', 'this header'] # Must match here\n",
    "match_in = ['c++', 'C#(lang)' 'a#hash_tag, here', ';df$str...', 'his head!']       # Must not match here"
   ]
  },
  {
   "cell_type": "code",
   "execution_count": 6,
   "metadata": {},
   "outputs": [
    {
     "name": "stdout",
     "output_type": "stream",
     "text": [
      "Sorted words: ['#hash_tag', 'his head', 'df$str', 'C++', 'C#']\n",
      "Sorted escaped words: \\#hash_tag, his\\ head, df\\$str, C\\+\\+, C\\#\n",
      "Regex pattern: (?:(?!\\w)|\\b(?=\\w))(?:\\#hash_tag|his\\ head|df\\$str|C\\+\\+|C\\#)(?:(?<=\\w)\\b|(?<!\\w))\n"
     ]
    }
   ],
   "source": [
    "# Sort by length in descending order (as some\"word\" contain spaces, non-word chars)\n",
    "words = sorted(words, key=len, reverse=True)\n",
    "print(\"Sorted words:\", words)\n",
    "# Create a list of escaped words:\n",
    "escaped_words = [re.escape(word) for word in words]\n",
    "print(\"Sorted escaped words:\", \", \".join(escaped_words))\n",
    "# Preparing the regex:\n",
    "pattern = re.compile(fr'(?:(?!\\w)|\\b(?=\\w))(?:{\"|\".join(escaped_words)})(?:(?<=\\w)\\b|(?<!\\w))', re.I)\n",
    "print(f\"Regex pattern:\", pattern.pattern)"
   ]
  },
  {
   "cell_type": "code",
   "execution_count": 7,
   "metadata": {},
   "outputs": [
    {
     "name": "stdout",
     "output_type": "stream",
     "text": [
      "False\n"
     ]
    }
   ],
   "source": [
    "# Is there any match in no_match_in list?\n",
    "print( any(pattern.search(sample) for sample in no_match_in) )"
   ]
  },
  {
   "cell_type": "code",
   "execution_count": 8,
   "metadata": {},
   "outputs": [
    {
     "name": "stdout",
     "output_type": "stream",
     "text": [
      "True\n"
     ]
    }
   ],
   "source": [
    "# Do all strings from match_in list match the regex pattern?\n",
    "print( all(pattern.search(sample) for sample in match_in) )"
   ]
  },
  {
   "cell_type": "code",
   "execution_count": null,
   "metadata": {},
   "outputs": [],
   "source": []
  }
 ],
 "metadata": {
  "kernelspec": {
   "display_name": "Python 3",
   "language": "python",
   "name": "python3"
  },
  "language_info": {
   "codemirror_mode": {
    "name": "ipython",
    "version": 3
   },
   "file_extension": ".py",
   "mimetype": "text/x-python",
   "name": "python",
   "nbconvert_exporter": "python",
   "pygments_lexer": "ipython3",
   "version": "3.7.7"
  }
 },
 "nbformat": 4,
 "nbformat_minor": 4
}
